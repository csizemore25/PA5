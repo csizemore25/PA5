{
 "cells": [
  {
   "cell_type": "markdown",
   "id": "0bb40437",
   "metadata": {},
   "source": [
    "# Programming Assignment 5"
   ]
  },
  {
   "cell_type": "markdown",
   "id": "58c07012",
   "metadata": {},
   "source": [
    "## Caitlin Sizemore "
   ]
  },
  {
   "cell_type": "markdown",
   "id": "66401489",
   "metadata": {},
   "source": [
    "### Version 1"
   ]
  },
  {
   "cell_type": "markdown",
   "id": "09464826",
   "metadata": {},
   "source": [
    "### CS150 Fall 2022"
   ]
  },
  {
   "cell_type": "code",
   "execution_count": 2,
   "id": "a0cdd1af",
   "metadata": {
    "scrolled": true
   },
   "outputs": [
    {
     "name": "stdout",
     "output_type": "stream",
     "text": [
      "Enter length of side 1: 5\n",
      "Enter length of side 2: 4\n",
      "Enter length of side 3: 3\n",
      "The area is:  6.0  square units\n",
      "The perimeter is:  12  units\n"
     ]
    }
   ],
   "source": [
    "a=int(input(\"Enter length of side 1: \"))\n",
    "b=int(input(\"Enter length of side 2: \"))\n",
    "c=int(input(\"Enter length of side 3: \"))\n",
    "def calcArea():\n",
    "    s=(a+b+c)/2\n",
    "    return (s*(s-a)*(s-b)*(s-c))**.5\n",
    "\n",
    "def calcPerimeter():\n",
    "    return (a+b+c)\n",
    "\n",
    "print(\"The area is: \", calcArea(), \" square units\")\n",
    "print(\"The perimeter is: \", calcPerimeter(), \" units\")\n",
    "    "
   ]
  },
  {
   "cell_type": "code",
   "execution_count": 3,
   "id": "1860ea1f",
   "metadata": {
    "scrolled": true
   },
   "outputs": [
    {
     "name": "stdout",
     "output_type": "stream",
     "text": [
      "Enter your guess: 500\n",
      "Too low. Guess Again!\n",
      "Enter your guess: 600\n",
      "Too high. Guess Again!\n",
      "Enter your guess: 550\n",
      "Too high. Guess Again!\n",
      "Enter your guess: 540\n",
      "Too low. Guess Again!\n",
      "Enter your guess: 545\n",
      "Too high. Guess Again!\n",
      "Enter your guess: 544\n",
      "Too high. Guess Again!\n",
      "Enter your guess: 543\n",
      "Too high. Guess Again!\n",
      "Enter your guess: 542\n",
      "Too high. Guess Again!\n",
      "Enter your guess: 541\n",
      "Correct!\n"
     ]
    }
   ],
   "source": [
    "def evaluate_guess():\n",
    "    import random\n",
    "    x=random.randint(0,1001)\n",
    "    guess=None\n",
    "\n",
    "\n",
    "    while guess!=x:\n",
    "        guess=int(input(\"Enter your guess: \"))\n",
    "    \n",
    "        if guess==x: \n",
    "            print(\"Correct!\")\n",
    "        elif guess>x: \n",
    "            print(\"Too high. Guess Again!\")\n",
    "        else: \n",
    "            print(\"Too low. Guess Again!\")\n",
    "evaluate_guess()"
   ]
  },
  {
   "cell_type": "code",
   "execution_count": 4,
   "id": "39750899",
   "metadata": {},
   "outputs": [
    {
     "name": "stdout",
     "output_type": "stream",
     "text": [
      "The mean of the past 7 days is 79.0 degrees F\n"
     ]
    }
   ],
   "source": [
    "def meanTemp(*temps):\n",
    "    mean=(sum(temps)/len(temps))\n",
    "    print(\"The mean of the past\", len(temps), \"days is\", mean, \"degrees F\")\n",
    "meanTemp(56,77,88,98,78,67,89)    "
   ]
  }
 ],
 "metadata": {
  "kernelspec": {
   "display_name": "Python 3 (ipykernel)",
   "language": "python",
   "name": "python3"
  },
  "language_info": {
   "codemirror_mode": {
    "name": "ipython",
    "version": 3
   },
   "file_extension": ".py",
   "mimetype": "text/x-python",
   "name": "python",
   "nbconvert_exporter": "python",
   "pygments_lexer": "ipython3",
   "version": "3.9.12"
  }
 },
 "nbformat": 4,
 "nbformat_minor": 5
}
